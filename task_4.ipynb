{
 "cells": [
  {
   "cell_type": "code",
   "execution_count": 1,
   "id": "bb061ee9",
   "metadata": {},
   "outputs": [
    {
     "name": "stdout",
     "output_type": "stream",
     "text": [
      "['k', 'u', 'c', 'h', '1', '2', 'b', 'h', 'i', 'k', 'u', 'c', 'h', 'b', 'h', 'i']\n",
      "kuch12bhikuchbhi\n"
     ]
    }
   ],
   "source": [
    "string = \"kuch12,bhi;kuch?bhi!\"\n",
    "list_1 = []\n",
    "for i in string:\n",
    "    list_1.append(i)\n",
    "\n",
    "for e in list_1:\n",
    "    if not e.isalnum():\n",
    "        list_1.remove(e)\n",
    "\n",
    "print (list_1)\n",
    "\n",
    "string_1 = \"\".join(list_1)\n",
    "print(string_1)\n",
    "\n",
    "\n"
   ]
  },
  {
   "cell_type": "code",
   "execution_count": 1,
   "id": "3294e009",
   "metadata": {},
   "outputs": [
    {
     "name": "stdout",
     "output_type": "stream",
     "text": [
      "letters:  ['I', 'a', 'm', 'I', 'b', 'r', 'a', 'h', 'i', 'm']\n",
      "ascii code : [73, 97, 109, 73, 98, 114, 97, 104, 105, 109]\n",
      "Words: ['I', 'am', 'Ibrahim']\n",
      "Sorted Words: ['I', 'Ibrahim', 'am']\n",
      "sorted letters =  ['I', 'I', 'a', 'a', 'b', 'h', 'i', 'm', 'm', 'r']\n"
     ]
    }
   ],
   "source": [
    "sentence = \"I am Ibrahim\"\n",
    "list_1 = []\n",
    "for i in sentence:\n",
    "    if i != \" \":\n",
    "        list_1.append(i)\n",
    "print(\"letters: \",list_1)\n",
    "list_2 = []\n",
    "for i in list_1:\n",
    "    loop = ord(i)\n",
    "    list_2.append(loop)\n",
    "print(\"ascii code :\" ,list_2)\n",
    "\n",
    "words = sentence.split()\n",
    "print(\"Words:\", words)\n",
    "def bubble_sort(arr):\n",
    "    n = len(arr)\n",
    "    for i in range(n):\n",
    "        for j in range(n-i-1):\n",
    "            if arr[j] > arr[j+1]:   \n",
    "                arr[j], arr[j+1] = arr[j+1], arr[j]\n",
    "    return arr\n",
    "\n",
    "sorted_words = bubble_sort(words)\n",
    "print(\"Sorted Words:\", sorted_words)\n",
    "\n",
    "sorted_letters =bubble_sort(list_1)\n",
    "print(\"sorted letters = \",sorted_letters)\n"
   ]
  },
  {
   "cell_type": "code",
   "execution_count": 2,
   "id": "f132c829",
   "metadata": {},
   "outputs": [
    {
     "name": "stdout",
     "output_type": "stream",
     "text": [
      "It is a valid card number\n"
     ]
    }
   ],
   "source": [
    "while True:\n",
    "    card_num = input(\"enter your card number\")\n",
    "    list_1 = []\n",
    "    for i in card_num:\n",
    "        list_1.append(int(i))\n",
    "    if len(list_1) == 16:\n",
    "        break\n",
    "    else:\n",
    "        print(\"card number should be 16 digits long\")\n",
    "\n",
    "def LUHN(arr):\n",
    "    last_digit = arr.pop()\n",
    "    arr.reverse()\n",
    "    for i in range(0,len(arr),2):\n",
    "        arr[i] *= 2\n",
    "        if arr[i] > 9:\n",
    "            arr[i] -= 9\n",
    "    \n",
    "    total = sum(arr) + last_digit\n",
    "    if total % 10 == 0:\n",
    "        print(\"It is a valid card number\")\n",
    "    else:\n",
    "        print(\"It is not a valid number\")\n",
    "\n",
    "LUHN(list_1)\n",
    "\n",
    "\n",
    "\n",
    "\n",
    "\n",
    "\n"
   ]
  }
 ],
 "metadata": {
  "kernelspec": {
   "display_name": "base",
   "language": "python",
   "name": "python3"
  },
  "language_info": {
   "codemirror_mode": {
    "name": "ipython",
    "version": 3
   },
   "file_extension": ".py",
   "mimetype": "text/x-python",
   "name": "python",
   "nbconvert_exporter": "python",
   "pygments_lexer": "ipython3",
   "version": "3.12.4"
  }
 },
 "nbformat": 4,
 "nbformat_minor": 5
}
