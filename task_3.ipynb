{
 "cells": [
  {
   "cell_type": "code",
   "execution_count": 4,
   "id": "60add0e6",
   "metadata": {},
   "outputs": [
    {
     "name": "stdout",
     "output_type": "stream",
     "text": [
      "22 = action: turn heater on\n",
      "34 = action: turn heater off\n",
      "11 = action: turn heater on\n",
      "22 = action: do nothing\n",
      "33 = action: turn heater off\n",
      "21 = action: turn heater on\n",
      "22 = action: do nothing\n",
      "26 = action: turn heater off\n"
     ]
    }
   ],
   "source": [
    "class Heater:\n",
    "    def __init__(self, desired_temp):\n",
    "        # The temprature you want\n",
    "        self.desired_temp = desired_temp  \n",
    "        # for memory it remembers if the heater is on or not\n",
    "        self.heater_on = False             \n",
    "    def check_temp(self, current_temp):\n",
    "        # if current temprature is less than the desired temprature and the heater is off it turns the heater on\n",
    "        if current_temp < self.desired_temp and not self.heater_on:\n",
    "            self.heater_on = True\n",
    "            return \"turn heater on\"\n",
    "        \n",
    "        # If current temprature is greater than the desired temprature and the heater is on it turns the heater off\n",
    "        elif current_temp >= self.desired_temp and self.heater_on:\n",
    "            self.heater_on = False\n",
    "            return \"turn heater off\"\n",
    "        \n",
    "        # if none of the conditions is true if will do nothing\n",
    "        else:\n",
    "            return \"do nothing\"\n",
    "\n",
    "agent = Heater(25)\n",
    "# List of temperature sensed\n",
    "temprature = [22, 34, 11, 22, 33, 21, 22, 26]\n",
    "# loop each temprature value once and give action\n",
    "for temp in temprature:\n",
    "    print(f\"{temp} = action: {agent.check_temp(temp)}\")\n"
   ]
  }
 ],
 "metadata": {
  "kernelspec": {
   "display_name": "base",
   "language": "python",
   "name": "python3"
  },
  "language_info": {
   "codemirror_mode": {
    "name": "ipython",
    "version": 3
   },
   "file_extension": ".py",
   "mimetype": "text/x-python",
   "name": "python",
   "nbconvert_exporter": "python",
   "pygments_lexer": "ipython3",
   "version": "3.12.4"
  }
 },
 "nbformat": 4,
 "nbformat_minor": 5
}
