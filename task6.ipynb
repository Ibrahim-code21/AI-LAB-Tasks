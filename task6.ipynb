{
 "cells": [
  {
   "cell_type": "code",
   "execution_count": 2,
   "id": "ce3af2cd",
   "metadata": {},
   "outputs": [
    {
     "name": "stdout",
     "output_type": "stream",
     "text": [
      "Path ['A', 'C', 'F', 'K', 'M']\n"
     ]
    }
   ],
   "source": [
    "graph = {\n",
    "    'A': ['B', 'C'],\n",
    "    'B': ['D', 'E'],\n",
    "    'C': ['F'],\n",
    "    'D': ['G', 'H'],\n",
    "    'E': [],\n",
    "    'F': ['I', 'K'],\n",
    "    'G': [],\n",
    "    'H': ['L'],\n",
    "    'I': [],\n",
    "    'K': ['M'],\n",
    "    'L': [],\n",
    "    'M': []\n",
    "}\n",
    "\n",
    "def bfs(start, end):\n",
    "    queue = [[start]]  \n",
    "    visited = set()   \n",
    "\n",
    "    while queue:\n",
    "        path = queue.pop(0)       \n",
    "        node = path[-1]          \n",
    "\n",
    "\n",
    "        if node == end:\n",
    "            return path            \n",
    "\n",
    "        if node not in visited:\n",
    "            visited.add(node)\n",
    "            for child in graph[node]:\n",
    "                new_path = path + [child]\n",
    "                queue.append(new_path)\n",
    "\n",
    "    return False\n",
    "\n",
    "\n",
    "start = 'A'\n",
    "end = input(\"Enter the goal state: \").upper()\n",
    "    \n",
    "obj1 = bfs(start, end)\n",
    "print(\"Path\", obj1)\n",
    "\n",
    "\n",
    "        \n",
    "\n",
    "\n",
    "\n",
    "\n",
    "    \n",
    "\n",
    "\n",
    "          "
   ]
  },
  {
   "cell_type": "code",
   "execution_count": 3,
   "id": "3aa2a574",
   "metadata": {},
   "outputs": [
    {
     "name": "stdout",
     "output_type": "stream",
     "text": [
      "Path: ['A', 'C', 'F', 'K', 'M']\n"
     ]
    }
   ],
   "source": [
    "graph = {\n",
    "    'A': ['B', 'C'],\n",
    "    'B': ['D', 'E'],\n",
    "    'C': ['F'],\n",
    "    'D': ['G', 'H'],\n",
    "    'E': [],\n",
    "    'F': ['I', 'K'],\n",
    "    'G': [],\n",
    "    'H': ['L'],\n",
    "    'I': [],\n",
    "    'K': ['M'],\n",
    "    'L': [],\n",
    "    'M': []\n",
    "}\n",
    "\n",
    "def bfs(level, visited, end):\n",
    "  \n",
    "    if not level:   \n",
    "        return False\n",
    "\n",
    "    next_level = [] \n",
    "\n",
    "    for path in level:\n",
    "        node = path[-1]  \n",
    "\n",
    "        if node == end: \n",
    "            return path\n",
    "\n",
    "        if node not in visited:\n",
    "            visited.add(node)\n",
    "            for child in graph[node]:\n",
    "                new_path = path + [child]\n",
    "                next_level.append(new_path)\n",
    "\n",
    "    return bfs(next_level, visited, end)\n",
    "\n",
    "def bfs_1(start, end):\n",
    "    return bfs([[start]], set(), end)\n",
    "\n",
    "start = 'A'\n",
    "end = input(\"Enter the goal state: \").upper()\n",
    "\n",
    "result = bfs_1(start, end)\n",
    "if result:\n",
    "    print(\"Path:\", result)\n",
    "else:\n",
    "    print(\"No path found\")\n"
   ]
  }
 ],
 "metadata": {
  "kernelspec": {
   "display_name": "base",
   "language": "python",
   "name": "python3"
  },
  "language_info": {
   "codemirror_mode": {
    "name": "ipython",
    "version": 3
   },
   "file_extension": ".py",
   "mimetype": "text/x-python",
   "name": "python",
   "nbconvert_exporter": "python",
   "pygments_lexer": "ipython3",
   "version": "3.12.4"
  }
 },
 "nbformat": 4,
 "nbformat_minor": 5
}
