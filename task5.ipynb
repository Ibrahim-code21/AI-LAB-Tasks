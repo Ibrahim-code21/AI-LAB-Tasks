{
 "cells": [
  {
   "cell_type": "code",
   "execution_count": 5,
   "id": "5c43b406",
   "metadata": {},
   "outputs": [
    {
     "data": {
      "text/plain": [
       "{'A', 'B', 'C', 'D', 'E', 'F', 'G', 'H', 'I', 'K', 'L', 'M'}"
      ]
     },
     "execution_count": 5,
     "metadata": {},
     "output_type": "execute_result"
    }
   ],
   "source": [
    "def dfs(graph,start):\n",
    "    stack = [start]\n",
    "    visited = set()\n",
    "    while stack:\n",
    "        node = stack.pop()\n",
    "        if node not in visited:\n",
    "            visited.add(node)\n",
    "            stack.extend(reversed(graph[node]))\n",
    "    return visited\n",
    "graph = {\n",
    "    'A': ['B', 'C'],\n",
    "    'B': ['D', 'E'],\n",
    "    'C': ['F'],\n",
    "    'D': ['G','H'],\n",
    "    'E': [],\n",
    "    'F': ['I','K'],\n",
    "    'G': [],\n",
    "    'H': ['L'],\n",
    "    'I': [],\n",
    "    'K': ['M'],\n",
    "    'L': [],\n",
    "    'M': []\n",
    "}\n",
    "\n",
    "dfs(graph, 'A')\n",
    "    \n",
    "\n"
   ]
  },
  {
   "cell_type": "markdown",
   "id": "c428abcc",
   "metadata": {},
   "source": [
    "## Preorder Traversal \n",
    "Visit the root (parent) first, then the left child, then the right child.\n",
    "(Root → Left → Right)\n",
    "## Inorder Traversal\n",
    "Visit the left child first, then the root (parent), then the right child.\n",
    "(Left → Root → Right)\n",
    "## Postorder Traversal\n",
    " Visit the left child, then the right child, and finally the root (parent).\n",
    "(Left → Right → Root)"
   ]
  }
 ],
 "metadata": {
  "kernelspec": {
   "display_name": "base",
   "language": "python",
   "name": "python3"
  },
  "language_info": {
   "codemirror_mode": {
    "name": "ipython",
    "version": 3
   },
   "file_extension": ".py",
   "mimetype": "text/x-python",
   "name": "python",
   "nbconvert_exporter": "python",
   "pygments_lexer": "ipython3",
   "version": "3.12.4"
  }
 },
 "nbformat": 4,
 "nbformat_minor": 5
}
